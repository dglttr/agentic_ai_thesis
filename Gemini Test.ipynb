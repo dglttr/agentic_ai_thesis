{
 "cells": [
  {
   "cell_type": "code",
   "execution_count": 2,
   "id": "0c68eac3",
   "metadata": {},
   "outputs": [],
   "source": [
    "from getpass import getpass\n",
    "\n",
    "from google import genai\n",
    "from google.genai import types\n",
    "\n",
    "API_KEY = getpass(\"Enter API key: \")\n",
    "client = genai.Client(api_key=API_KEY)"
   ]
  },
  {
   "cell_type": "code",
   "execution_count": 6,
   "id": "8d0bfb4f",
   "metadata": {},
   "outputs": [],
   "source": [
    "from PIL import Image\n",
    "\n",
    "IMG_PATH = input(\"Enter image path: \")\n",
    "IMG_PATH = IMG_PATH.strip('\"')\n",
    "\n",
    "\n",
    "image = Image.open(IMG_PATH)\n",
    "image.show()\n",
    "\n",
    "with open(IMG_PATH, 'rb') as f:\n",
    "      image_bytes = f.read()\n",
    "\n",
    "image = types.Part.from_bytes(\n",
    "  data=image_bytes, mime_type=\"image/jpeg\"\n",
    ")"
   ]
  },
  {
   "cell_type": "code",
   "execution_count": 7,
   "id": "64fbcd6a",
   "metadata": {},
   "outputs": [
    {
     "name": "stdout",
     "output_type": "stream",
     "text": [
      "Certainly! Here's my analysis of the image:\n",
      "\n",
      "**Location:**\n",
      "\n",
      "The image was taken in Berlin, Germany.\n",
      "\n",
      "**Reasoning:**\n",
      "\n",
      "1.  **Berlin TV Tower (Fernsehturm):** The most prominent landmark in the image is the Berlin TV Tower. This iconic structure is a defining feature of the Berlin skyline and is easily recognizable.\n",
      "2.  **Brandenburg Gate:** In the center of the image, you can see the Brandenburg Gate. This is another famous landmark in Berlin.\n",
      "3.  **Road and Forest:** The road leading to the Brandenburg Gate is surrounded by a large forest. This is likely the Tiergarten, a large park in the center of Berlin.\n",
      "4.  **Skyline:** The skyline in the background includes a mix of modern and historical buildings, which is characteristic of Berlin.\n",
      "\n",
      "Based on these elements, it's highly likely that the image was taken in Berlin, Germany.\n"
     ]
    }
   ],
   "source": [
    "MODEL_INPUT = \"Please identify where this image was taken and explain how you came to that conclusion in detail.\"\n",
    "SYSTEM_INSTRUCTION = \"You are an AI model that can identify images and provide detailed descriptions.\"\n",
    "\n",
    "response = client.models.generate_content(\n",
    "    model=\"gemini-2.0-flash\",\n",
    "    contents=[\n",
    "        image,\n",
    "        MODEL_INPUT\n",
    "    ],\n",
    "    config=types.GenerateContentConfig(\n",
    "        system_instruction=SYSTEM_INSTRUCTION,\n",
    "        max_output_tokens=500,\n",
    "        temperature=0.1,\n",
    "        seed=42\n",
    "    )\n",
    ")\n",
    "print(response.text)"
   ]
  }
 ],
 "metadata": {
  "kernelspec": {
   "display_name": "venv",
   "language": "python",
   "name": "python3"
  },
  "language_info": {
   "codemirror_mode": {
    "name": "ipython",
    "version": 3
   },
   "file_extension": ".py",
   "mimetype": "text/x-python",
   "name": "python",
   "nbconvert_exporter": "python",
   "pygments_lexer": "ipython3",
   "version": "3.12.10"
  }
 },
 "nbformat": 4,
 "nbformat_minor": 5
}
